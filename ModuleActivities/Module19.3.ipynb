{
 "cells": [
  {
   "cell_type": "code",
   "execution_count": 1,
   "id": "b92a08fe-7881-4a20-aa19-52e7f503314d",
   "metadata": {},
   "outputs": [
    {
     "name": "stdout",
     "output_type": "stream",
     "text": [
      "Found existing installation: tensorflow 2.8.0\n",
      "Uninstalling tensorflow-2.8.0:\n",
      "  Successfully uninstalled tensorflow-2.8.0\n",
      "Note: you may need to restart the kernel to use updated packages.\n"
     ]
    }
   ],
   "source": [
    "#pip uninstall tensorflow -y"
   ]
  },
  {
   "cell_type": "code",
   "execution_count": 2,
   "id": "47c9b80a",
   "metadata": {},
   "outputs": [
    {
     "name": "stdout",
     "output_type": "stream",
     "text": [
      "Collecting tensorflow==2.5\n",
      "  Using cached tensorflow-2.5.0-cp37-cp37m-win_amd64.whl (422.6 MB)\n",
      "Collecting absl-py~=0.10\n",
      "  Using cached absl_py-0.15.0-py3-none-any.whl (132 kB)\n",
      "Requirement already satisfied: wrapt~=1.12.1 in c:\\users\\aidan\\anaconda3\\envs\\mlenv\\lib\\site-packages (from tensorflow==2.5) (1.12.1)\n",
      "Requirement already satisfied: tensorboard~=2.5 in c:\\users\\aidan\\anaconda3\\envs\\mlenv\\lib\\site-packages (from tensorflow==2.5) (2.8.0)\n",
      "Collecting h5py~=3.1.0\n",
      "  Using cached h5py-3.1.0-cp37-cp37m-win_amd64.whl (2.7 MB)\n",
      "Requirement already satisfied: google-pasta~=0.2 in c:\\users\\aidan\\anaconda3\\envs\\mlenv\\lib\\site-packages (from tensorflow==2.5) (0.2.0)\n",
      "Collecting keras-nightly~=2.5.0.dev\n",
      "  Using cached keras_nightly-2.5.0.dev2021032900-py2.py3-none-any.whl (1.2 MB)\n",
      "Collecting typing-extensions~=3.7.4\n",
      "  Using cached typing_extensions-3.7.4.3-py3-none-any.whl (22 kB)\n",
      "Collecting six~=1.15.0\n",
      "  Using cached six-1.15.0-py2.py3-none-any.whl (10 kB)\n",
      "Requirement already satisfied: protobuf>=3.9.2 in c:\\users\\aidan\\anaconda3\\envs\\mlenv\\lib\\site-packages (from tensorflow==2.5) (3.20.1)\n",
      "Requirement already satisfied: termcolor~=1.1.0 in c:\\users\\aidan\\anaconda3\\envs\\mlenv\\lib\\site-packages (from tensorflow==2.5) (1.1.0)\n",
      "Requirement already satisfied: wheel~=0.35 in c:\\users\\aidan\\anaconda3\\envs\\mlenv\\lib\\site-packages (from tensorflow==2.5) (0.37.0)\n",
      "Requirement already satisfied: keras-preprocessing~=1.1.2 in c:\\users\\aidan\\anaconda3\\envs\\mlenv\\lib\\site-packages (from tensorflow==2.5) (1.1.2)\n",
      "Collecting gast==0.4.0\n",
      "  Using cached gast-0.4.0-py3-none-any.whl (9.8 kB)\n",
      "Collecting flatbuffers~=1.12.0\n",
      "  Using cached flatbuffers-1.12-py2.py3-none-any.whl (15 kB)\n",
      "Collecting numpy~=1.19.2\n",
      "  Using cached numpy-1.19.5-cp37-cp37m-win_amd64.whl (13.2 MB)\n",
      "Collecting tensorflow-estimator<2.6.0,>=2.5.0rc0\n",
      "  Using cached tensorflow_estimator-2.5.0-py2.py3-none-any.whl (462 kB)\n",
      "Requirement already satisfied: astunparse~=1.6.3 in c:\\users\\aidan\\anaconda3\\envs\\mlenv\\lib\\site-packages (from tensorflow==2.5) (1.6.3)\n",
      "Collecting grpcio~=1.34.0\n",
      "  Using cached grpcio-1.34.1-cp37-cp37m-win_amd64.whl (2.9 MB)\n",
      "Requirement already satisfied: opt-einsum~=3.3.0 in c:\\users\\aidan\\anaconda3\\envs\\mlenv\\lib\\site-packages (from tensorflow==2.5) (3.3.0)\n",
      "Collecting cached-property\n",
      "  Using cached cached_property-1.5.2-py2.py3-none-any.whl (7.6 kB)\n",
      "Requirement already satisfied: google-auth-oauthlib<0.5,>=0.4.1 in c:\\users\\aidan\\anaconda3\\envs\\mlenv\\lib\\site-packages (from tensorboard~=2.5->tensorflow==2.5) (0.4.6)\n",
      "Requirement already satisfied: werkzeug>=0.11.15 in c:\\users\\aidan\\anaconda3\\envs\\mlenv\\lib\\site-packages (from tensorboard~=2.5->tensorflow==2.5) (2.0.2)\n",
      "Requirement already satisfied: google-auth<3,>=1.6.3 in c:\\users\\aidan\\anaconda3\\envs\\mlenv\\lib\\site-packages (from tensorboard~=2.5->tensorflow==2.5) (2.6.6)\n",
      "Requirement already satisfied: tensorboard-plugin-wit>=1.6.0 in c:\\users\\aidan\\anaconda3\\envs\\mlenv\\lib\\site-packages (from tensorboard~=2.5->tensorflow==2.5) (1.8.1)\n",
      "Requirement already satisfied: markdown>=2.6.8 in c:\\users\\aidan\\anaconda3\\envs\\mlenv\\lib\\site-packages (from tensorboard~=2.5->tensorflow==2.5) (3.3.4)\n",
      "Requirement already satisfied: tensorboard-data-server<0.7.0,>=0.6.0 in c:\\users\\aidan\\anaconda3\\envs\\mlenv\\lib\\site-packages (from tensorboard~=2.5->tensorflow==2.5) (0.6.1)\n",
      "Requirement already satisfied: setuptools>=41.0.0 in c:\\users\\aidan\\anaconda3\\envs\\mlenv\\lib\\site-packages (from tensorboard~=2.5->tensorflow==2.5) (58.0.4)\n",
      "Requirement already satisfied: requests<3,>=2.21.0 in c:\\users\\aidan\\anaconda3\\envs\\mlenv\\lib\\site-packages (from tensorboard~=2.5->tensorflow==2.5) (2.26.0)\n",
      "Requirement already satisfied: cachetools<6.0,>=2.0.0 in c:\\users\\aidan\\anaconda3\\envs\\mlenv\\lib\\site-packages (from google-auth<3,>=1.6.3->tensorboard~=2.5->tensorflow==2.5) (5.0.0)\n",
      "Requirement already satisfied: rsa<5,>=3.1.4 in c:\\users\\aidan\\anaconda3\\envs\\mlenv\\lib\\site-packages (from google-auth<3,>=1.6.3->tensorboard~=2.5->tensorflow==2.5) (4.8)\n",
      "Requirement already satisfied: pyasn1-modules>=0.2.1 in c:\\users\\aidan\\anaconda3\\envs\\mlenv\\lib\\site-packages (from google-auth<3,>=1.6.3->tensorboard~=2.5->tensorflow==2.5) (0.2.8)\n",
      "Requirement already satisfied: requests-oauthlib>=0.7.0 in c:\\users\\aidan\\anaconda3\\envs\\mlenv\\lib\\site-packages (from google-auth-oauthlib<0.5,>=0.4.1->tensorboard~=2.5->tensorflow==2.5) (1.3.1)\n",
      "Requirement already satisfied: importlib-metadata in c:\\users\\aidan\\anaconda3\\envs\\mlenv\\lib\\site-packages (from markdown>=2.6.8->tensorboard~=2.5->tensorflow==2.5) (4.8.1)\n",
      "Requirement already satisfied: pyasn1<0.5.0,>=0.4.6 in c:\\users\\aidan\\anaconda3\\envs\\mlenv\\lib\\site-packages (from pyasn1-modules>=0.2.1->google-auth<3,>=1.6.3->tensorboard~=2.5->tensorflow==2.5) (0.4.8)\n",
      "Requirement already satisfied: urllib3<1.27,>=1.21.1 in c:\\users\\aidan\\anaconda3\\envs\\mlenv\\lib\\site-packages (from requests<3,>=2.21.0->tensorboard~=2.5->tensorflow==2.5) (1.26.7)\n",
      "Requirement already satisfied: charset-normalizer~=2.0.0 in c:\\users\\aidan\\anaconda3\\envs\\mlenv\\lib\\site-packages (from requests<3,>=2.21.0->tensorboard~=2.5->tensorflow==2.5) (2.0.4)\n",
      "Requirement already satisfied: idna<4,>=2.5 in c:\\users\\aidan\\anaconda3\\envs\\mlenv\\lib\\site-packages (from requests<3,>=2.21.0->tensorboard~=2.5->tensorflow==2.5) (3.2)\n",
      "Requirement already satisfied: certifi>=2017.4.17 in c:\\users\\aidan\\anaconda3\\envs\\mlenv\\lib\\site-packages (from requests<3,>=2.21.0->tensorboard~=2.5->tensorflow==2.5) (2021.10.8)\n",
      "Requirement already satisfied: oauthlib>=3.0.0 in c:\\users\\aidan\\anaconda3\\envs\\mlenv\\lib\\site-packages (from requests-oauthlib>=0.7.0->google-auth-oauthlib<0.5,>=0.4.1->tensorboard~=2.5->tensorflow==2.5) (3.2.0)\n",
      "Requirement already satisfied: zipp>=0.5 in c:\\users\\aidan\\anaconda3\\envs\\mlenv\\lib\\site-packages (from importlib-metadata->markdown>=2.6.8->tensorboard~=2.5->tensorflow==2.5) (3.6.0)\n",
      "Installing collected packages: typing-extensions, six, numpy, grpcio, cached-property, absl-py, tensorflow-estimator, keras-nightly, h5py, gast, flatbuffers, tensorflow\n",
      "  Attempting uninstall: typing-extensions\n",
      "    Found existing installation: typing-extensions 3.10.0.2\n",
      "    Uninstalling typing-extensions-3.10.0.2:\n",
      "      Successfully uninstalled typing-extensions-3.10.0.2\n",
      "  Attempting uninstall: six\n",
      "    Found existing installation: six 1.16.0\n",
      "    Uninstalling six-1.16.0:\n",
      "      Successfully uninstalled six-1.16.0\n",
      "  Attempting uninstall: numpy\n",
      "    Found existing installation: numpy 1.20.3\n",
      "    Uninstalling numpy-1.20.3:\n",
      "      Successfully uninstalled numpy-1.20.3\n",
      "  Attempting uninstall: grpcio\n",
      "    Found existing installation: grpcio 1.44.0\n",
      "    Uninstalling grpcio-1.44.0:\n",
      "      Successfully uninstalled grpcio-1.44.0\n",
      "  Attempting uninstall: absl-py\n",
      "    Found existing installation: absl-py 1.0.0\n",
      "    Uninstalling absl-py-1.0.0:\n",
      "      Successfully uninstalled absl-py-1.0.0\n",
      "  Attempting uninstall: h5py\n",
      "    Found existing installation: h5py 2.10.0\n",
      "    Uninstalling h5py-2.10.0:\n",
      "      Successfully uninstalled h5py-2.10.0\n",
      "  Attempting uninstall: gast\n",
      "    Found existing installation: gast 0.5.3\n",
      "    Uninstalling gast-0.5.3:\n",
      "      Successfully uninstalled gast-0.5.3\n",
      "  Attempting uninstall: flatbuffers\n",
      "    Found existing installation: flatbuffers 2.0\n",
      "    Uninstalling flatbuffers-2.0:\n",
      "      Successfully uninstalled flatbuffers-2.0\n",
      "Successfully installed absl-py-0.15.0 cached-property-1.5.2 flatbuffers-1.12 gast-0.4.0 grpcio-1.34.1 h5py-3.1.0 keras-nightly-2.5.0.dev2021032900 numpy-1.19.5 six-1.15.0 tensorflow-2.5.0 tensorflow-estimator-2.5.0 typing-extensions-3.7.4.3\n",
      "Note: you may need to restart the kernel to use updated packages.\n"
     ]
    },
    {
     "name": "stderr",
     "output_type": "stream",
     "text": [
      "  WARNING: The script f2py.exe is installed in 'C:\\Users\\aidan\\anaconda3\\envs\\mlenv\\Scripts' which is not on PATH.\n",
      "  Consider adding this directory to PATH or, if you prefer to suppress this warning, use --no-warn-script-location.\n",
      "  WARNING: The scripts estimator_ckpt_converter.exe, import_pb_to_tensorboard.exe, saved_model_cli.exe, tensorboard.exe, tf_upgrade_v2.exe, tflite_convert.exe, toco.exe and toco_from_protos.exe are installed in 'C:\\Users\\aidan\\anaconda3\\envs\\mlenv\\Scripts' which is not on PATH.\n",
      "  Consider adding this directory to PATH or, if you prefer to suppress this warning, use --no-warn-script-location.\n",
      "ERROR: pip's dependency resolver does not currently take into account all the packages that are installed. This behaviour is the source of the following dependency conflicts.\n",
      "daal4py 2021.3.0 requires daal==2021.2.3, which is not installed.\n",
      "bokeh 2.4.1 requires typing-extensions>=3.10.0, but you have typing-extensions 3.7.4.3 which is incompatible.\n"
     ]
    }
   ],
   "source": [
    "#pip install tensorflow==2.5"
   ]
  },
  {
   "cell_type": "code",
   "execution_count": 1,
   "id": "84bdfb72",
   "metadata": {},
   "outputs": [],
   "source": [
    "# Import our dependencies\n",
    "import pandas as pd\n",
    "import matplotlib as plt\n",
    "from sklearn.datasets import make_blobs\n",
    "import sklearn as skl\n",
    "import tensorflow as tf"
   ]
  },
  {
   "cell_type": "code",
   "execution_count": 2,
   "id": "247edb79-7177-4809-9599-28f601caa5d6",
   "metadata": {},
   "outputs": [
    {
     "data": {
      "text/plain": [
       "<AxesSubplot:xlabel='Feature 1', ylabel='Feature 2'>"
      ]
     },
     "execution_count": 2,
     "metadata": {},
     "output_type": "execute_result"
    },
    {
     "data": {
      "image/png": "[encoded data removed]",
      "text/plain": [
       "<Figure size 432x288 with 2 Axes>"
      ]
     },
     "metadata": {
      "needs_background": "light"
     },
     "output_type": "display_data"
    }
   ],
   "source": [
    "# Generate dummy dataset\n",
    "X, y = make_blobs(n_samples=1000, centers=2, n_features=2, random_state=78)\n",
    "\n",
    "# Creating a DataFrame with the dummy data\n",
    "df = pd.DataFrame(X, columns=[\"Feature 1\", \"Feature 2\"])\n",
    "df[\"Target\"] = y\n",
    "\n",
    "# Plotting the dummy data\n",
    "df.plot.scatter(x=\"Feature 1\", y=\"Feature 2\", c=\"Target\", colormap=\"winter\")"
   ]
  },
  {
   "cell_type": "code",
   "execution_count": 3,
   "id": "1bc86495",
   "metadata": {},
   "outputs": [],
   "source": [
    "# Use sklearn to split dataset\n",
    "from sklearn.model_selection import train_test_split\n",
    "X_train, X_test, y_train, y_test = train_test_split(X, y, random_state=78)"
   ]
  },
  {
   "cell_type": "code",
   "execution_count": 4,
   "id": "61189666",
   "metadata": {},
   "outputs": [],
   "source": [
    "# Create scaler instance\n",
    "X_scaler = skl.preprocessing.StandardScaler()\n",
    "\n",
    "# Fit the scaler\n",
    "X_scaler.fit(X_train)\n",
    "\n",
    "# Scale the data\n",
    "X_train_scaled = X_scaler.transform(X_train)\n",
    "X_test_scaled = X_scaler.transform(X_test)"
   ]
  },
  {
   "cell_type": "code",
   "execution_count": 5,
   "id": "f94f2f1d",
   "metadata": {},
   "outputs": [],
   "source": [
    "# Create the Keras Sequential model\n",
    "nn_model = tf.keras.models.Sequential()"
   ]
  },
  {
   "cell_type": "code",
   "execution_count": 6,
   "id": "a496b455",
   "metadata": {},
   "outputs": [],
   "source": [
    "# Add our first Dense layer, including the input layer\n",
    "nn_model.add(tf.keras.layers.Dense(units=1, activation=\"relu\", input_dim=2))"
   ]
  },
  {
   "cell_type": "code",
   "execution_count": 7,
   "id": "15ff1642",
   "metadata": {},
   "outputs": [],
   "source": [
    "# Add the output layer that uses a probability activation function\n",
    "nn_model.add(tf.keras.layers.Dense(units=1, activation=\"sigmoid\"))"
   ]
  },
  {
   "cell_type": "code",
   "execution_count": 8,
   "id": "06213a17",
   "metadata": {},
   "outputs": [
    {
     "name": "stdout",
     "output_type": "stream",
     "text": [
      "Model: \"sequential\"\n",
      "_________________________________________________________________\n",
      "Layer (type)                 Output Shape              Param #   \n",
      "=================================================================\n",
      "dense (Dense)                (None, 1)                 3         \n",
      "_________________________________________________________________\n",
      "dense_1 (Dense)              (None, 1)                 2         \n",
      "=================================================================\n",
      "Total params: 5\n",
      "Trainable params: 5\n",
      "Non-trainable params: 0\n",
      "_________________________________________________________________\n"
     ]
    }
   ],
   "source": [
    "# Check the structure of the Sequential model\n",
    "nn_model.summary()"
   ]
  },
  {
   "cell_type": "code",
   "execution_count": 9,
   "id": "ccf5fa55",
   "metadata": {},
   "outputs": [],
   "source": [
    "# Compile the Sequential model together and customize metrics\n",
    "nn_model.compile(loss=\"binary_crossentropy\", optimizer=\"adam\", metrics=[\"accuracy\"])"
   ]
  },
  {
   "cell_type": "code",
   "execution_count": 10,
   "id": "c4303d23",
   "metadata": {},
   "outputs": [
    {
     "name": "stdout",
     "output_type": "stream",
     "text": [
      "Epoch 1/100\n",
      "24/24 [==============================] - 0s 910us/step - loss: 0.8429 - accuracy: 0.0240\n",
      "Epoch 2/100\n",
      "24/24 [==============================] - 0s 477us/step - loss: 0.8167 - accuracy: 0.0547\n",
      "Epoch 3/100\n",
      "24/24 [==============================] - 0s 477us/step - loss: 0.7934 - accuracy: 0.0947\n",
      "Epoch 4/100\n",
      "24/24 [==============================] - 0s 477us/step - loss: 0.7753 - accuracy: 0.1387\n",
      "Epoch 5/100\n",
      "24/24 [==============================] - 0s 477us/step - loss: 0.7598 - accuracy: 0.1907\n",
      "Epoch 6/100\n",
      "24/24 [==============================] - 0s 477us/step - loss: 0.7475 - accuracy: 0.2347\n",
      "Epoch 7/100\n",
      "24/24 [==============================] - 0s 477us/step - loss: 0.7374 - accuracy: 0.2800\n",
      "Epoch 8/100\n",
      "24/24 [==============================] - 0s 477us/step - loss: 0.7289 - accuracy: 0.3187\n",
      "Epoch 9/100\n",
      "24/24 [==============================] - 0s 477us/step - loss: 0.7217 - accuracy: 0.3600\n",
      "Epoch 10/100\n",
      "24/24 [==============================] - 0s 434us/step - loss: 0.7154 - accuracy: 0.3973\n",
      "Epoch 11/100\n",
      "24/24 [==============================] - 0s 477us/step - loss: 0.7096 - accuracy: 0.4213\n",
      "Epoch 12/100\n",
      "24/24 [==============================] - 0s 477us/step - loss: 0.7046 - accuracy: 0.4520\n",
      "Epoch 13/100\n",
      "24/24 [==============================] - 0s 477us/step - loss: 0.6999 - accuracy: 0.4720\n",
      "Epoch 14/100\n",
      "24/24 [==============================] - 0s 477us/step - loss: 0.6956 - accuracy: 0.4973\n",
      "Epoch 15/100\n",
      "24/24 [==============================] - 0s 520us/step - loss: 0.6913 - accuracy: 0.5080\n",
      "Epoch 16/100\n",
      "24/24 [==============================] - 0s 520us/step - loss: 0.6867 - accuracy: 0.5307\n",
      "Epoch 17/100\n",
      "24/24 [==============================] - 0s 477us/step - loss: 0.6818 - accuracy: 0.5573\n",
      "Epoch 18/100\n",
      "24/24 [==============================] - 0s 520us/step - loss: 0.6761 - accuracy: 0.5907\n",
      "Epoch 19/100\n",
      "24/24 [==============================] - 0s 477us/step - loss: 0.6701 - accuracy: 0.6120\n",
      "Epoch 20/100\n",
      "24/24 [==============================] - 0s 477us/step - loss: 0.6636 - accuracy: 0.6453\n",
      "Epoch 21/100\n",
      "24/24 [==============================] - 0s 477us/step - loss: 0.6564 - accuracy: 0.6667\n",
      "Epoch 22/100\n",
      "24/24 [==============================] - 0s 477us/step - loss: 0.6485 - accuracy: 0.6907\n",
      "Epoch 23/100\n",
      "24/24 [==============================] - 0s 477us/step - loss: 0.6400 - accuracy: 0.7107\n",
      "Epoch 24/100\n",
      "24/24 [==============================] - 0s 520us/step - loss: 0.6312 - accuracy: 0.7320\n",
      "Epoch 25/100\n",
      "24/24 [==============================] - 0s 520us/step - loss: 0.6217 - accuracy: 0.7400\n",
      "Epoch 26/100\n",
      "24/24 [==============================] - 0s 477us/step - loss: 0.6119 - accuracy: 0.7533\n",
      "Epoch 27/100\n",
      "24/24 [==============================] - 0s 477us/step - loss: 0.6015 - accuracy: 0.7707\n",
      "Epoch 28/100\n",
      "24/24 [==============================] - 0s 477us/step - loss: 0.5903 - accuracy: 0.7853\n",
      "Epoch 29/100\n",
      "24/24 [==============================] - 0s 477us/step - loss: 0.5788 - accuracy: 0.8000\n",
      "Epoch 30/100\n",
      "24/24 [==============================] - 0s 477us/step - loss: 0.5664 - accuracy: 0.8173\n",
      "Epoch 31/100\n",
      "24/24 [==============================] - 0s 477us/step - loss: 0.5539 - accuracy: 0.8267\n",
      "Epoch 32/100\n",
      "24/24 [==============================] - 0s 434us/step - loss: 0.5413 - accuracy: 0.8373\n",
      "Epoch 33/100\n",
      "24/24 [==============================] - 0s 477us/step - loss: 0.5284 - accuracy: 0.8533\n",
      "Epoch 34/100\n",
      "24/24 [==============================] - 0s 434us/step - loss: 0.5158 - accuracy: 0.8613\n",
      "Epoch 35/100\n",
      "24/24 [==============================] - 0s 477us/step - loss: 0.5029 - accuracy: 0.8667\n",
      "Epoch 36/100\n",
      "24/24 [==============================] - 0s 477us/step - loss: 0.4903 - accuracy: 0.8733\n",
      "Epoch 37/100\n",
      "24/24 [==============================] - 0s 520us/step - loss: 0.4778 - accuracy: 0.8840\n",
      "Epoch 38/100\n",
      "24/24 [==============================] - 0s 477us/step - loss: 0.4655 - accuracy: 0.8907\n",
      "Epoch 39/100\n",
      "24/24 [==============================] - 0s 477us/step - loss: 0.4534 - accuracy: 0.9027\n",
      "Epoch 40/100\n",
      "24/24 [==============================] - 0s 477us/step - loss: 0.4414 - accuracy: 0.9107\n",
      "Epoch 41/100\n",
      "24/24 [==============================] - 0s 477us/step - loss: 0.4297 - accuracy: 0.9160\n",
      "Epoch 42/100\n",
      "24/24 [==============================] - 0s 477us/step - loss: 0.4185 - accuracy: 0.9173\n",
      "Epoch 43/100\n",
      "24/24 [==============================] - 0s 434us/step - loss: 0.4074 - accuracy: 0.9227\n",
      "Epoch 44/100\n",
      "24/24 [==============================] - 0s 477us/step - loss: 0.3968 - accuracy: 0.9267\n",
      "Epoch 45/100\n",
      "24/24 [==============================] - 0s 520us/step - loss: 0.3865 - accuracy: 0.9307\n",
      "Epoch 46/100\n",
      "24/24 [==============================] - 0s 477us/step - loss: 0.3765 - accuracy: 0.9400\n",
      "Epoch 47/100\n",
      "24/24 [==============================] - 0s 477us/step - loss: 0.3666 - accuracy: 0.9427\n",
      "Epoch 48/100\n",
      "24/24 [==============================] - 0s 477us/step - loss: 0.3571 - accuracy: 0.9440\n",
      "Epoch 49/100\n",
      "24/24 [==============================] - 0s 477us/step - loss: 0.3477 - accuracy: 0.9467\n",
      "Epoch 50/100\n",
      "24/24 [==============================] - 0s 477us/step - loss: 0.3384 - accuracy: 0.9493\n",
      "Epoch 51/100\n",
      "24/24 [==============================] - 0s 520us/step - loss: 0.3295 - accuracy: 0.9493\n",
      "Epoch 52/100\n",
      "24/24 [==============================] - 0s 477us/step - loss: 0.3207 - accuracy: 0.9520\n",
      "Epoch 53/100\n",
      "24/24 [==============================] - 0s 477us/step - loss: 0.3121 - accuracy: 0.9560\n",
      "Epoch 54/100\n",
      "24/24 [==============================] - 0s 477us/step - loss: 0.3038 - accuracy: 0.9560\n",
      "Epoch 55/100\n",
      "24/24 [==============================] - 0s 434us/step - loss: 0.2958 - accuracy: 0.9573\n",
      "Epoch 56/100\n",
      "24/24 [==============================] - 0s 434us/step - loss: 0.2880 - accuracy: 0.9600\n",
      "Epoch 57/100\n",
      "24/24 [==============================] - 0s 477us/step - loss: 0.2805 - accuracy: 0.9613\n",
      "Epoch 58/100\n",
      "24/24 [==============================] - 0s 477us/step - loss: 0.2733 - accuracy: 0.9640\n",
      "Epoch 59/100\n",
      "24/24 [==============================] - 0s 434us/step - loss: 0.2663 - accuracy: 0.9667\n",
      "Epoch 60/100\n",
      "24/24 [==============================] - 0s 520us/step - loss: 0.2595 - accuracy: 0.9693\n",
      "Epoch 61/100\n",
      "24/24 [==============================] - 0s 477us/step - loss: 0.2531 - accuracy: 0.9720\n",
      "Epoch 62/100\n",
      "24/24 [==============================] - 0s 477us/step - loss: 0.2468 - accuracy: 0.9733\n",
      "Epoch 63/100\n",
      "24/24 [==============================] - 0s 434us/step - loss: 0.2408 - accuracy: 0.9760\n",
      "Epoch 64/100\n",
      "24/24 [==============================] - 0s 520us/step - loss: 0.2349 - accuracy: 0.9787\n",
      "Epoch 65/100\n",
      "24/24 [==============================] - 0s 477us/step - loss: 0.2292 - accuracy: 0.9800\n",
      "Epoch 66/100\n",
      "24/24 [==============================] - 0s 477us/step - loss: 0.2236 - accuracy: 0.9813\n",
      "Epoch 67/100\n",
      "24/24 [==============================] - 0s 477us/step - loss: 0.2181 - accuracy: 0.9813\n",
      "Epoch 68/100\n",
      "24/24 [==============================] - 0s 477us/step - loss: 0.2128 - accuracy: 0.9827\n",
      "Epoch 69/100\n",
      "24/24 [==============================] - 0s 434us/step - loss: 0.2077 - accuracy: 0.9827\n",
      "Epoch 70/100\n",
      "24/24 [==============================] - 0s 520us/step - loss: 0.2028 - accuracy: 0.9827\n",
      "Epoch 71/100\n",
      "24/24 [==============================] - 0s 477us/step - loss: 0.1980 - accuracy: 0.9867\n",
      "Epoch 72/100\n",
      "24/24 [==============================] - 0s 477us/step - loss: 0.1933 - accuracy: 0.9867\n",
      "Epoch 73/100\n",
      "24/24 [==============================] - 0s 477us/step - loss: 0.1886 - accuracy: 0.9880\n",
      "Epoch 74/100\n",
      "24/24 [==============================] - 0s 477us/step - loss: 0.1842 - accuracy: 0.9880\n",
      "Epoch 75/100\n",
      "24/24 [==============================] - 0s 520us/step - loss: 0.1799 - accuracy: 0.9880\n",
      "Epoch 76/100\n",
      "24/24 [==============================] - 0s 477us/step - loss: 0.1756 - accuracy: 0.9880\n",
      "Epoch 77/100\n",
      "24/24 [==============================] - 0s 434us/step - loss: 0.1716 - accuracy: 0.9880\n",
      "Epoch 78/100\n",
      "24/24 [==============================] - 0s 434us/step - loss: 0.1677 - accuracy: 0.9880\n",
      "Epoch 79/100\n",
      "24/24 [==============================] - 0s 434us/step - loss: 0.1639 - accuracy: 0.9893\n",
      "Epoch 80/100\n",
      "24/24 [==============================] - 0s 434us/step - loss: 0.1603 - accuracy: 0.9920\n",
      "Epoch 81/100\n"
     ]
    },
    {
     "name": "stdout",
     "output_type": "stream",
     "text": [
      "24/24 [==============================] - 0s 434us/step - loss: 0.1567 - accuracy: 0.9920\n",
      "Epoch 82/100\n",
      "24/24 [==============================] - 0s 434us/step - loss: 0.1532 - accuracy: 0.9920\n",
      "Epoch 83/100\n",
      "24/24 [==============================] - 0s 477us/step - loss: 0.1499 - accuracy: 0.9920\n",
      "Epoch 84/100\n",
      "24/24 [==============================] - 0s 477us/step - loss: 0.1467 - accuracy: 0.9920\n",
      "Epoch 85/100\n",
      "24/24 [==============================] - 0s 477us/step - loss: 0.1436 - accuracy: 0.9920\n",
      "Epoch 86/100\n",
      "24/24 [==============================] - 0s 434us/step - loss: 0.1405 - accuracy: 0.9920\n",
      "Epoch 87/100\n",
      "24/24 [==============================] - 0s 434us/step - loss: 0.1376 - accuracy: 0.9920\n",
      "Epoch 88/100\n",
      "24/24 [==============================] - 0s 434us/step - loss: 0.1347 - accuracy: 0.9920\n",
      "Epoch 89/100\n",
      "24/24 [==============================] - 0s 434us/step - loss: 0.1320 - accuracy: 0.9920\n",
      "Epoch 90/100\n",
      "24/24 [==============================] - 0s 433us/step - loss: 0.1292 - accuracy: 0.9947\n",
      "Epoch 91/100\n",
      "24/24 [==============================] - 0s 434us/step - loss: 0.1266 - accuracy: 0.9947\n",
      "Epoch 92/100\n",
      "24/24 [==============================] - 0s 434us/step - loss: 0.1240 - accuracy: 0.9960\n",
      "Epoch 93/100\n",
      "24/24 [==============================] - 0s 434us/step - loss: 0.1215 - accuracy: 0.9973\n",
      "Epoch 94/100\n",
      "24/24 [==============================] - 0s 477us/step - loss: 0.1192 - accuracy: 0.9973\n",
      "Epoch 95/100\n",
      "24/24 [==============================] - 0s 477us/step - loss: 0.1168 - accuracy: 0.9973\n",
      "Epoch 96/100\n",
      "24/24 [==============================] - 0s 434us/step - loss: 0.1146 - accuracy: 0.9973\n",
      "Epoch 97/100\n",
      "24/24 [==============================] - 0s 458us/step - loss: 0.1123 - accuracy: 0.9987\n",
      "Epoch 98/100\n",
      "24/24 [==============================] - 0s 477us/step - loss: 0.1102 - accuracy: 1.0000\n",
      "Epoch 99/100\n",
      "24/24 [==============================] - 0s 434us/step - loss: 0.1081 - accuracy: 1.0000\n",
      "Epoch 100/100\n",
      "24/24 [==============================] - 0s 477us/step - loss: 0.1060 - accuracy: 1.0000\n"
     ]
    }
   ],
   "source": [
    "# Fit the model to the training data\n",
    "fit_model = nn_model.fit(X_train_scaled, y_train, epochs=100)"
   ]
  },
  {
   "cell_type": "code",
   "execution_count": 11,
   "id": "6d1a03ec",
   "metadata": {},
   "outputs": [
    {
     "data": {
      "text/plain": [
       "<AxesSubplot:>"
      ]
     },
     "execution_count": 11,
     "metadata": {},
     "output_type": "execute_result"
    },
    {
     "data": {
      "image/png": "[encoded data removed]",
      "text/plain": [
       "<Figure size 432x288 with 1 Axes>"
      ]
     },
     "metadata": {
      "needs_background": "light"
     },
     "output_type": "display_data"
    }
   ],
   "source": [
    "# Create a DataFrame containing training history\n",
    "history_df = pd.DataFrame(fit_model.history, index=range(1,len(fit_model.history[\"loss\"])+1))\n",
    "\n",
    "# Plot the loss\n",
    "history_df.plot(y=\"loss\")"
   ]
  },
  {
   "cell_type": "code",
   "execution_count": 12,
   "id": "18f3ae4b",
   "metadata": {},
   "outputs": [
    {
     "data": {
      "text/plain": [
       "<AxesSubplot:>"
      ]
     },
     "execution_count": 12,
     "metadata": {},
     "output_type": "execute_result"
    },
    {
     "data": {
      "image/png": "[encoded data removed]",
      "text/plain": [
       "<Figure size 432x288 with 1 Axes>"
      ]
     },
     "metadata": {
      "needs_background": "light"
     },
     "output_type": "display_data"
    }
   ],
   "source": [
    "# Plot the accuracy\n",
    "history_df.plot(y=\"accuracy\")"
   ]
  },
  {
   "cell_type": "code",
   "execution_count": 13,
   "id": "4e780d19",
   "metadata": {},
   "outputs": [
    {
     "name": "stdout",
     "output_type": "stream",
     "text": [
      "8/8 - 0s - loss: 0.0979 - accuracy: 1.0000\n",
      "Loss: 0.09785325825214386, Accuracy: 1.0\n"
     ]
    }
   ],
   "source": [
    "# Evaluate the model using the test data\n",
    "model_loss, model_accuracy = nn_model.evaluate(X_test_scaled,y_test,verbose=2)\n",
    "print(f\"Loss: {model_loss}, Accuracy: {model_accuracy}\")"
   ]
  },
  {
   "cell_type": "code",
   "execution_count": 14,
   "id": "e2d4bc2a",
   "metadata": {},
   "outputs": [
    {
     "data": {
      "text/plain": [
       "array([[0],\n",
       "       [1],\n",
       "       [0],\n",
       "       [1],\n",
       "       [0],\n",
       "       [0],\n",
       "       [1],\n",
       "       [1],\n",
       "       [1],\n",
       "       [0]])"
      ]
     },
     "execution_count": 14,
     "metadata": {},
     "output_type": "execute_result"
    }
   ],
   "source": [
    "# Predict the classification of a new set of blob data\n",
    "new_X, new_Y = make_blobs(n_samples=10, centers=2, n_features=2, random_state=78)\n",
    "new_X_scaled = X_scaler.transform(new_X)\n",
    "(nn_model.predict(new_X_scaled) > 0.5).astype(\"int32\")"
   ]
  },
  {
   "cell_type": "code",
   "execution_count": 15,
   "id": "f8f764a6",
   "metadata": {},
   "outputs": [
    {
     "data": {
      "text/plain": [
       "<AxesSubplot:xlabel='Feature 1', ylabel='Feature 2'>"
      ]
     },
     "execution_count": 15,
     "metadata": {},
     "output_type": "execute_result"
    },
    {
     "data": {
      "image/png": "[encoded data removed]",
      "text/plain": [
       "<Figure size 432x288 with 2 Axes>"
      ]
     },
     "metadata": {
      "needs_background": "light"
     },
     "output_type": "display_data"
    }
   ],
   "source": [
    "from sklearn.datasets import make_moons\n",
    "\n",
    "# Creating dummy nonlinear data\n",
    "X_moons, y_moons = make_moons(n_samples=1000, noise=0.08, random_state=78)\n",
    "\n",
    "# Transforming y_moons to a vertical vector\n",
    "y_moons = y_moons.reshape(-1, 1)\n",
    "\n",
    "# Creating a DataFrame to plot the nonlinear dummy data\n",
    "df_moons = pd.DataFrame(X_moons, columns=[\"Feature 1\", \"Feature 2\"])\n",
    "df_moons[\"Target\"] = y_moons\n",
    "\n",
    "# Plot the nonlinear dummy data\n",
    "df_moons.plot.scatter(x=\"Feature 1\",y=\"Feature 2\", c=\"Target\",colormap=\"winter\")"
   ]
  },
  {
   "cell_type": "code",
   "execution_count": 16,
   "id": "f44b85c0",
   "metadata": {},
   "outputs": [],
   "source": [
    "# Create training and testing sets\n",
    "X_moon_train, X_moon_test, y_moon_train, y_moon_test = train_test_split(\n",
    "    X_moons, y_moons, random_state=78\n",
    ")\n",
    "\n",
    "# Create the scaler instance\n",
    "X_moon_scaler = skl.preprocessing.StandardScaler()\n",
    "\n",
    "# Fit the scaler\n",
    "X_moon_scaler.fit(X_moon_train)\n",
    "\n",
    "# Scale the data\n",
    "X_moon_train_scaled = X_moon_scaler.transform(X_moon_train)\n",
    "X_moon_test_scaled = X_moon_scaler.transform(X_moon_test)"
   ]
  },
  {
   "cell_type": "code",
   "execution_count": 17,
   "id": "5e6bd872",
   "metadata": {},
   "outputs": [
    {
     "name": "stdout",
     "output_type": "stream",
     "text": [
      "Epoch 1/100\n",
      "24/24 [==============================] - 0s 781us/step - loss: 1.2893 - accuracy: 0.3707\n",
      "Epoch 2/100\n",
      "24/24 [==============================] - 0s 780us/step - loss: 1.1008 - accuracy: 0.4013\n",
      "Epoch 3/100\n",
      "24/24 [==============================] - 0s 737us/step - loss: 0.9782 - accuracy: 0.4307\n",
      "Epoch 4/100\n",
      "24/24 [==============================] - 0s 737us/step - loss: 0.9006 - accuracy: 0.4627\n",
      "Epoch 5/100\n",
      "24/24 [==============================] - 0s 781us/step - loss: 0.8434 - accuracy: 0.4893\n",
      "Epoch 6/100\n",
      "24/24 [==============================] - 0s 737us/step - loss: 0.8003 - accuracy: 0.5160\n",
      "Epoch 7/100\n",
      "24/24 [==============================] - 0s 737us/step - loss: 0.7657 - accuracy: 0.5400\n",
      "Epoch 8/100\n",
      "24/24 [==============================] - 0s 737us/step - loss: 0.7353 - accuracy: 0.5613\n",
      "Epoch 9/100\n",
      "24/24 [==============================] - 0s 737us/step - loss: 0.7090 - accuracy: 0.5813\n",
      "Epoch 10/100\n",
      "24/24 [==============================] - 0s 737us/step - loss: 0.6863 - accuracy: 0.5960\n",
      "Epoch 11/100\n",
      "24/24 [==============================] - 0s 737us/step - loss: 0.6659 - accuracy: 0.6067\n",
      "Epoch 12/100\n",
      "24/24 [==============================] - 0s 824us/step - loss: 0.6481 - accuracy: 0.6267\n",
      "Epoch 13/100\n",
      "24/24 [==============================] - 0s 824us/step - loss: 0.6321 - accuracy: 0.6360\n",
      "Epoch 14/100\n",
      "24/24 [==============================] - 0s 694us/step - loss: 0.6173 - accuracy: 0.6453\n",
      "Epoch 15/100\n",
      "24/24 [==============================] - 0s 781us/step - loss: 0.6033 - accuracy: 0.6520\n",
      "Epoch 16/100\n",
      "24/24 [==============================] - 0s 737us/step - loss: 0.5908 - accuracy: 0.6627\n",
      "Epoch 17/100\n",
      "24/24 [==============================] - 0s 781us/step - loss: 0.5785 - accuracy: 0.6680\n",
      "Epoch 18/100\n",
      "24/24 [==============================] - 0s 750us/step - loss: 0.5677 - accuracy: 0.6760\n",
      "Epoch 19/100\n",
      "24/24 [==============================] - 0s 737us/step - loss: 0.5573 - accuracy: 0.6853\n",
      "Epoch 20/100\n",
      "24/24 [==============================] - 0s 694us/step - loss: 0.5478 - accuracy: 0.6907\n",
      "Epoch 21/100\n",
      "24/24 [==============================] - 0s 780us/step - loss: 0.5387 - accuracy: 0.6973\n",
      "Epoch 22/100\n",
      "24/24 [==============================] - 0s 694us/step - loss: 0.5301 - accuracy: 0.7013\n",
      "Epoch 23/100\n",
      "24/24 [==============================] - 0s 781us/step - loss: 0.5222 - accuracy: 0.7107\n",
      "Epoch 24/100\n",
      "24/24 [==============================] - 0s 781us/step - loss: 0.5144 - accuracy: 0.7173\n",
      "Epoch 25/100\n",
      "24/24 [==============================] - 0s 737us/step - loss: 0.5069 - accuracy: 0.7267\n",
      "Epoch 26/100\n",
      "24/24 [==============================] - 0s 737us/step - loss: 0.4997 - accuracy: 0.7280\n",
      "Epoch 27/100\n",
      "24/24 [==============================] - 0s 737us/step - loss: 0.4924 - accuracy: 0.7320\n",
      "Epoch 28/100\n",
      "24/24 [==============================] - 0s 737us/step - loss: 0.4855 - accuracy: 0.7373\n",
      "Epoch 29/100\n",
      "24/24 [==============================] - 0s 737us/step - loss: 0.4788 - accuracy: 0.7413\n",
      "Epoch 30/100\n",
      "24/24 [==============================] - 0s 780us/step - loss: 0.4723 - accuracy: 0.7453\n",
      "Epoch 31/100\n",
      "24/24 [==============================] - 0s 781us/step - loss: 0.4658 - accuracy: 0.7547\n",
      "Epoch 32/100\n",
      "24/24 [==============================] - 0s 781us/step - loss: 0.4595 - accuracy: 0.7587\n",
      "Epoch 33/100\n",
      "24/24 [==============================] - 0s 737us/step - loss: 0.4531 - accuracy: 0.7640\n",
      "Epoch 34/100\n",
      "24/24 [==============================] - 0s 737us/step - loss: 0.4470 - accuracy: 0.7680\n",
      "Epoch 35/100\n",
      "24/24 [==============================] - 0s 737us/step - loss: 0.4410 - accuracy: 0.7707\n",
      "Epoch 36/100\n",
      "24/24 [==============================] - 0s 780us/step - loss: 0.4346 - accuracy: 0.7760\n",
      "Epoch 37/100\n",
      "24/24 [==============================] - 0s 733us/step - loss: 0.4283 - accuracy: 0.7800\n",
      "Epoch 38/100\n",
      "24/24 [==============================] - 0s 737us/step - loss: 0.4224 - accuracy: 0.7827\n",
      "Epoch 39/100\n",
      "24/24 [==============================] - 0s 781us/step - loss: 0.4167 - accuracy: 0.7880\n",
      "Epoch 40/100\n",
      "24/24 [==============================] - 0s 781us/step - loss: 0.4110 - accuracy: 0.7920\n",
      "Epoch 41/100\n",
      "24/24 [==============================] - 0s 737us/step - loss: 0.4054 - accuracy: 0.7987\n",
      "Epoch 42/100\n",
      "24/24 [==============================] - 0s 781us/step - loss: 0.3998 - accuracy: 0.8080\n",
      "Epoch 43/100\n",
      "24/24 [==============================] - 0s 781us/step - loss: 0.3943 - accuracy: 0.8120\n",
      "Epoch 44/100\n",
      "24/24 [==============================] - 0s 737us/step - loss: 0.3890 - accuracy: 0.8133\n",
      "Epoch 45/100\n",
      "24/24 [==============================] - 0s 737us/step - loss: 0.3840 - accuracy: 0.8160\n",
      "Epoch 46/100\n",
      "24/24 [==============================] - 0s 780us/step - loss: 0.3789 - accuracy: 0.8213\n",
      "Epoch 47/100\n",
      "24/24 [==============================] - 0s 781us/step - loss: 0.3739 - accuracy: 0.8227\n",
      "Epoch 48/100\n",
      "24/24 [==============================] - 0s 737us/step - loss: 0.3688 - accuracy: 0.8227\n",
      "Epoch 49/100\n",
      "24/24 [==============================] - 0s 737us/step - loss: 0.3641 - accuracy: 0.8267\n",
      "Epoch 50/100\n",
      "24/24 [==============================] - 0s 737us/step - loss: 0.3596 - accuracy: 0.8267\n",
      "Epoch 51/100\n",
      "24/24 [==============================] - 0s 737us/step - loss: 0.3550 - accuracy: 0.8293\n",
      "Epoch 52/100\n",
      "24/24 [==============================] - 0s 781us/step - loss: 0.3507 - accuracy: 0.8307\n",
      "Epoch 53/100\n",
      "24/24 [==============================] - 0s 737us/step - loss: 0.3465 - accuracy: 0.8320\n",
      "Epoch 54/100\n",
      "24/24 [==============================] - 0s 781us/step - loss: 0.3426 - accuracy: 0.8373\n",
      "Epoch 55/100\n",
      "24/24 [==============================] - 0s 737us/step - loss: 0.3384 - accuracy: 0.8400\n",
      "Epoch 56/100\n",
      "24/24 [==============================] - 0s 737us/step - loss: 0.3346 - accuracy: 0.8413\n",
      "Epoch 57/100\n",
      "24/24 [==============================] - 0s 694us/step - loss: 0.3308 - accuracy: 0.8480\n",
      "Epoch 58/100\n",
      "24/24 [==============================] - 0s 737us/step - loss: 0.3271 - accuracy: 0.8507\n",
      "Epoch 59/100\n",
      "24/24 [==============================] - 0s 737us/step - loss: 0.3236 - accuracy: 0.8520\n",
      "Epoch 60/100\n",
      "24/24 [==============================] - 0s 737us/step - loss: 0.3202 - accuracy: 0.8533\n",
      "Epoch 61/100\n",
      "24/24 [==============================] - 0s 737us/step - loss: 0.3171 - accuracy: 0.8560\n",
      "Epoch 62/100\n",
      "24/24 [==============================] - 0s 694us/step - loss: 0.3142 - accuracy: 0.8627\n",
      "Epoch 63/100\n",
      "24/24 [==============================] - 0s 737us/step - loss: 0.3117 - accuracy: 0.8693\n",
      "Epoch 64/100\n",
      "24/24 [==============================] - 0s 737us/step - loss: 0.3094 - accuracy: 0.8707\n",
      "Epoch 65/100\n",
      "24/24 [==============================] - 0s 737us/step - loss: 0.3071 - accuracy: 0.8720\n",
      "Epoch 66/100\n",
      "24/24 [==============================] - 0s 737us/step - loss: 0.3052 - accuracy: 0.8733\n",
      "Epoch 67/100\n",
      "24/24 [==============================] - 0s 737us/step - loss: 0.3033 - accuracy: 0.8747\n",
      "Epoch 68/100\n",
      "24/24 [==============================] - 0s 737us/step - loss: 0.3016 - accuracy: 0.8773\n",
      "Epoch 69/100\n",
      "24/24 [==============================] - 0s 737us/step - loss: 0.3000 - accuracy: 0.8800\n",
      "Epoch 70/100\n",
      "24/24 [==============================] - 0s 737us/step - loss: 0.2987 - accuracy: 0.8827\n",
      "Epoch 71/100\n",
      "24/24 [==============================] - 0s 737us/step - loss: 0.2973 - accuracy: 0.8827\n",
      "Epoch 72/100\n",
      "24/24 [==============================] - 0s 694us/step - loss: 0.2959 - accuracy: 0.8840\n",
      "Epoch 73/100\n",
      "24/24 [==============================] - 0s 737us/step - loss: 0.2948 - accuracy: 0.8853\n",
      "Epoch 74/100\n",
      "24/24 [==============================] - 0s 694us/step - loss: 0.2936 - accuracy: 0.8867\n",
      "Epoch 75/100\n",
      "24/24 [==============================] - 0s 737us/step - loss: 0.2925 - accuracy: 0.8880\n",
      "Epoch 76/100\n",
      "24/24 [==============================] - 0s 911us/step - loss: 0.2915 - accuracy: 0.8893\n",
      "Epoch 77/100\n",
      "24/24 [==============================] - 0s 812us/step - loss: 0.2905 - accuracy: 0.8907\n",
      "Epoch 78/100\n",
      "24/24 [==============================] - 0s 694us/step - loss: 0.2895 - accuracy: 0.8907\n",
      "Epoch 79/100\n",
      "24/24 [==============================] - 0s 694us/step - loss: 0.2886 - accuracy: 0.8907\n",
      "Epoch 80/100\n",
      "24/24 [==============================] - 0s 737us/step - loss: 0.2877 - accuracy: 0.8920\n",
      "Epoch 81/100\n"
     ]
    },
    {
     "name": "stdout",
     "output_type": "stream",
     "text": [
      "24/24 [==============================] - 0s 737us/step - loss: 0.2868 - accuracy: 0.8920\n",
      "Epoch 82/100\n",
      "24/24 [==============================] - 0s 737us/step - loss: 0.2859 - accuracy: 0.8920\n",
      "Epoch 83/100\n",
      "24/24 [==============================] - 0s 694us/step - loss: 0.2851 - accuracy: 0.8933\n",
      "Epoch 84/100\n",
      "24/24 [==============================] - 0s 781us/step - loss: 0.2843 - accuracy: 0.8933\n",
      "Epoch 85/100\n",
      "24/24 [==============================] - 0s 694us/step - loss: 0.2835 - accuracy: 0.8933\n",
      "Epoch 86/100\n",
      "24/24 [==============================] - 0s 737us/step - loss: 0.2828 - accuracy: 0.8933\n",
      "Epoch 87/100\n",
      "24/24 [==============================] - 0s 737us/step - loss: 0.2820 - accuracy: 0.8933\n",
      "Epoch 88/100\n",
      "24/24 [==============================] - 0s 694us/step - loss: 0.2813 - accuracy: 0.8933\n",
      "Epoch 89/100\n",
      "24/24 [==============================] - 0s 737us/step - loss: 0.2806 - accuracy: 0.8933\n",
      "Epoch 90/100\n",
      "24/24 [==============================] - 0s 737us/step - loss: 0.2800 - accuracy: 0.8920\n",
      "Epoch 91/100\n",
      "24/24 [==============================] - 0s 737us/step - loss: 0.2793 - accuracy: 0.8920\n",
      "Epoch 92/100\n",
      "24/24 [==============================] - 0s 694us/step - loss: 0.2788 - accuracy: 0.8920\n",
      "Epoch 93/100\n",
      "24/24 [==============================] - 0s 694us/step - loss: 0.2780 - accuracy: 0.8920\n",
      "Epoch 94/100\n",
      "24/24 [==============================] - 0s 737us/step - loss: 0.2774 - accuracy: 0.8920\n",
      "Epoch 95/100\n",
      "24/24 [==============================] - 0s 694us/step - loss: 0.2769 - accuracy: 0.8920\n",
      "Epoch 96/100\n",
      "24/24 [==============================] - 0s 737us/step - loss: 0.2764 - accuracy: 0.8920\n",
      "Epoch 97/100\n",
      "24/24 [==============================] - 0s 694us/step - loss: 0.2757 - accuracy: 0.8920\n",
      "Epoch 98/100\n",
      "24/24 [==============================] - 0s 694us/step - loss: 0.2753 - accuracy: 0.8907\n",
      "Epoch 99/100\n",
      "24/24 [==============================] - 0s 737us/step - loss: 0.2747 - accuracy: 0.8907\n",
      "Epoch 100/100\n",
      "24/24 [==============================] - 0s 694us/step - loss: 0.2742 - accuracy: 0.8907\n"
     ]
    }
   ],
   "source": [
    "# Training the model with the nonlinear data\n",
    "model_moon = nn_model.fit(X_moon_train_scaled, y_moon_train, epochs=100, shuffle=True)"
   ]
  },
  {
   "cell_type": "code",
   "execution_count": 18,
   "id": "8c4361fe",
   "metadata": {},
   "outputs": [
    {
     "data": {
      "text/plain": [
       "<AxesSubplot:>"
      ]
     },
     "execution_count": 18,
     "metadata": {},
     "output_type": "execute_result"
    },
    {
     "data": {
      "image/png": "[encoded data removed]",
      "text/plain": [
       "<Figure size 432x288 with 1 Axes>"
      ]
     },
     "metadata": {
      "needs_background": "light"
     },
     "output_type": "display_data"
    }
   ],
   "source": [
    "# Create a DataFrame containing training history\n",
    "history_df = pd.DataFrame(model_moon.history, index=range(1,len(model_moon.history[\"loss\"])+1))\n",
    "\n",
    "# Plot the loss\n",
    "history_df.plot(y=\"loss\")"
   ]
  },
  {
   "cell_type": "code",
   "execution_count": 19,
   "id": "08520950",
   "metadata": {},
   "outputs": [
    {
     "data": {
      "text/plain": [
       "<AxesSubplot:>"
      ]
     },
     "execution_count": 19,
     "metadata": {},
     "output_type": "execute_result"
    },
    {
     "data": {
      "image/png": "[encoded data removed]",
      "text/plain": [
       "<Figure size 432x288 with 1 Axes>"
      ]
     },
     "metadata": {
      "needs_background": "light"
     },
     "output_type": "display_data"
    }
   ],
   "source": [
    "# Plot the accuracy\n",
    "history_df.plot(y=\"accuracy\")"
   ]
  },
  {
   "cell_type": "code",
   "execution_count": 20,
   "id": "9b9ab39e",
   "metadata": {},
   "outputs": [],
   "source": [
    "# Generate our new Sequential model\n",
    "new_model = tf.keras.models.Sequential()"
   ]
  },
  {
   "cell_type": "code",
   "execution_count": 21,
   "id": "5e4bf568",
   "metadata": {},
   "outputs": [],
   "source": [
    "# Add the input and hidden layer\n",
    "number_inputs = 2\n",
    "number_hidden_nodes = 6\n",
    "\n",
    "new_model.add(tf.keras.layers.Dense(units=number_hidden_nodes, activation=\"relu\", input_dim=number_inputs))\n",
    "\n",
    "# Add the output layer that uses a probability activation function\n",
    "new_model.add(tf.keras.layers.Dense(units=1, activation=\"sigmoid\"))"
   ]
  },
  {
   "cell_type": "code",
   "execution_count": 22,
   "id": "d86267b9",
   "metadata": {},
   "outputs": [
    {
     "name": "stdout",
     "output_type": "stream",
     "text": [
      "Epoch 1/100\n",
      "24/24 [==============================] - 0s 501us/step - loss: 0.7396 - accuracy: 0.6627\n",
      "Epoch 2/100\n",
      "24/24 [==============================] - 0s 477us/step - loss: 0.7002 - accuracy: 0.7240\n",
      "Epoch 3/100\n",
      "24/24 [==============================] - 0s 477us/step - loss: 0.6626 - accuracy: 0.7613\n",
      "Epoch 4/100\n",
      "24/24 [==============================] - 0s 520us/step - loss: 0.6266 - accuracy: 0.7760\n",
      "Epoch 5/100\n",
      "24/24 [==============================] - 0s 477us/step - loss: 0.5928 - accuracy: 0.7920\n",
      "Epoch 6/100\n",
      "24/24 [==============================] - 0s 434us/step - loss: 0.5599 - accuracy: 0.8120\n",
      "Epoch 7/100\n",
      "24/24 [==============================] - 0s 477us/step - loss: 0.5296 - accuracy: 0.8280\n",
      "Epoch 8/100\n",
      "24/24 [==============================] - 0s 477us/step - loss: 0.5002 - accuracy: 0.8453\n",
      "Epoch 9/100\n",
      "24/24 [==============================] - 0s 520us/step - loss: 0.4734 - accuracy: 0.8560\n",
      "Epoch 10/100\n",
      "24/24 [==============================] - 0s 520us/step - loss: 0.4482 - accuracy: 0.8640\n",
      "Epoch 11/100\n",
      "24/24 [==============================] - 0s 477us/step - loss: 0.4261 - accuracy: 0.8707\n",
      "Epoch 12/100\n",
      "24/24 [==============================] - 0s 477us/step - loss: 0.4058 - accuracy: 0.8680\n",
      "Epoch 13/100\n",
      "24/24 [==============================] - 0s 477us/step - loss: 0.3876 - accuracy: 0.8733\n",
      "Epoch 14/100\n",
      "24/24 [==============================] - 0s 477us/step - loss: 0.3716 - accuracy: 0.8747\n",
      "Epoch 15/100\n",
      "24/24 [==============================] - 0s 477us/step - loss: 0.3576 - accuracy: 0.8773\n",
      "Epoch 16/100\n",
      "24/24 [==============================] - 0s 477us/step - loss: 0.3453 - accuracy: 0.8787\n",
      "Epoch 17/100\n",
      "24/24 [==============================] - 0s 477us/step - loss: 0.3346 - accuracy: 0.8787\n",
      "Epoch 18/100\n",
      "24/24 [==============================] - 0s 520us/step - loss: 0.3253 - accuracy: 0.8787\n",
      "Epoch 19/100\n",
      "24/24 [==============================] - 0s 477us/step - loss: 0.3172 - accuracy: 0.8787\n",
      "Epoch 20/100\n",
      "24/24 [==============================] - 0s 477us/step - loss: 0.3101 - accuracy: 0.8787\n",
      "Epoch 21/100\n",
      "24/24 [==============================] - 0s 520us/step - loss: 0.3039 - accuracy: 0.8787\n",
      "Epoch 22/100\n",
      "24/24 [==============================] - 0s 477us/step - loss: 0.2985 - accuracy: 0.8787\n",
      "Epoch 23/100\n",
      "24/24 [==============================] - 0s 520us/step - loss: 0.2938 - accuracy: 0.8813\n",
      "Epoch 24/100\n",
      "24/24 [==============================] - 0s 477us/step - loss: 0.2894 - accuracy: 0.8813\n",
      "Epoch 25/100\n",
      "24/24 [==============================] - 0s 477us/step - loss: 0.2855 - accuracy: 0.8840\n",
      "Epoch 26/100\n",
      "24/24 [==============================] - 0s 477us/step - loss: 0.2821 - accuracy: 0.8840\n",
      "Epoch 27/100\n",
      "24/24 [==============================] - 0s 477us/step - loss: 0.2790 - accuracy: 0.8840\n",
      "Epoch 28/100\n",
      "24/24 [==============================] - 0s 520us/step - loss: 0.2761 - accuracy: 0.8867\n",
      "Epoch 29/100\n",
      "24/24 [==============================] - 0s 477us/step - loss: 0.2735 - accuracy: 0.8880\n",
      "Epoch 30/100\n",
      "24/24 [==============================] - 0s 477us/step - loss: 0.2711 - accuracy: 0.8907\n",
      "Epoch 31/100\n",
      "24/24 [==============================] - 0s 521us/step - loss: 0.2689 - accuracy: 0.8920\n",
      "Epoch 32/100\n",
      "24/24 [==============================] - 0s 520us/step - loss: 0.2668 - accuracy: 0.8933\n",
      "Epoch 33/100\n",
      "24/24 [==============================] - 0s 520us/step - loss: 0.2648 - accuracy: 0.8933\n",
      "Epoch 34/100\n",
      "24/24 [==============================] - 0s 520us/step - loss: 0.2630 - accuracy: 0.8947\n",
      "Epoch 35/100\n",
      "24/24 [==============================] - 0s 477us/step - loss: 0.2613 - accuracy: 0.8947\n",
      "Epoch 36/100\n",
      "24/24 [==============================] - 0s 520us/step - loss: 0.2597 - accuracy: 0.8947\n",
      "Epoch 37/100\n",
      "24/24 [==============================] - 0s 477us/step - loss: 0.2581 - accuracy: 0.8947\n",
      "Epoch 38/100\n",
      "24/24 [==============================] - 0s 520us/step - loss: 0.2566 - accuracy: 0.8947\n",
      "Epoch 39/100\n",
      "24/24 [==============================] - 0s 477us/step - loss: 0.2552 - accuracy: 0.8947\n",
      "Epoch 40/100\n",
      "24/24 [==============================] - 0s 477us/step - loss: 0.2538 - accuracy: 0.8947\n",
      "Epoch 41/100\n",
      "24/24 [==============================] - 0s 520us/step - loss: 0.2526 - accuracy: 0.8960\n",
      "Epoch 42/100\n",
      "24/24 [==============================] - 0s 477us/step - loss: 0.2513 - accuracy: 0.8973\n",
      "Epoch 43/100\n",
      "24/24 [==============================] - 0s 564us/step - loss: 0.2501 - accuracy: 0.8973\n",
      "Epoch 44/100\n",
      "24/24 [==============================] - 0s 520us/step - loss: 0.2490 - accuracy: 0.8973\n",
      "Epoch 45/100\n",
      "24/24 [==============================] - 0s 523us/step - loss: 0.2479 - accuracy: 0.8973\n",
      "Epoch 46/100\n",
      "24/24 [==============================] - 0s 520us/step - loss: 0.2469 - accuracy: 0.8973\n",
      "Epoch 47/100\n",
      "24/24 [==============================] - 0s 520us/step - loss: 0.2459 - accuracy: 0.8960\n",
      "Epoch 48/100\n",
      "24/24 [==============================] - 0s 477us/step - loss: 0.2450 - accuracy: 0.8960\n",
      "Epoch 49/100\n",
      "24/24 [==============================] - 0s 520us/step - loss: 0.2441 - accuracy: 0.8960\n",
      "Epoch 50/100\n",
      "24/24 [==============================] - 0s 520us/step - loss: 0.2432 - accuracy: 0.8973\n",
      "Epoch 51/100\n",
      "24/24 [==============================] - 0s 477us/step - loss: 0.2424 - accuracy: 0.8973\n",
      "Epoch 52/100\n",
      "24/24 [==============================] - 0s 477us/step - loss: 0.2416 - accuracy: 0.8973\n",
      "Epoch 53/100\n",
      "24/24 [==============================] - 0s 520us/step - loss: 0.2408 - accuracy: 0.8973\n",
      "Epoch 54/100\n",
      "24/24 [==============================] - 0s 607us/step - loss: 0.2402 - accuracy: 0.8973\n",
      "Epoch 55/100\n",
      "24/24 [==============================] - 0s 520us/step - loss: 0.2395 - accuracy: 0.8973\n",
      "Epoch 56/100\n",
      "24/24 [==============================] - 0s 477us/step - loss: 0.2387 - accuracy: 0.8973\n",
      "Epoch 57/100\n",
      "24/24 [==============================] - 0s 477us/step - loss: 0.2380 - accuracy: 0.8973\n",
      "Epoch 58/100\n",
      "24/24 [==============================] - 0s 477us/step - loss: 0.2374 - accuracy: 0.9000\n",
      "Epoch 59/100\n",
      "24/24 [==============================] - 0s 520us/step - loss: 0.2365 - accuracy: 0.9000\n",
      "Epoch 60/100\n",
      "24/24 [==============================] - 0s 564us/step - loss: 0.2360 - accuracy: 0.9013\n",
      "Epoch 61/100\n",
      "24/24 [==============================] - 0s 564us/step - loss: 0.2353 - accuracy: 0.9013\n",
      "Epoch 62/100\n",
      "24/24 [==============================] - 0s 520us/step - loss: 0.2346 - accuracy: 0.9013\n",
      "Epoch 63/100\n",
      "24/24 [==============================] - 0s 520us/step - loss: 0.2341 - accuracy: 0.9013\n",
      "Epoch 64/100\n",
      "24/24 [==============================] - 0s 477us/step - loss: 0.2333 - accuracy: 0.9013\n",
      "Epoch 65/100\n",
      "24/24 [==============================] - 0s 520us/step - loss: 0.2327 - accuracy: 0.9027\n",
      "Epoch 66/100\n",
      "24/24 [==============================] - 0s 520us/step - loss: 0.2320 - accuracy: 0.9027\n",
      "Epoch 67/100\n",
      "24/24 [==============================] - 0s 607us/step - loss: 0.2312 - accuracy: 0.9027\n",
      "Epoch 68/100\n",
      "24/24 [==============================] - 0s 556us/step - loss: 0.2305 - accuracy: 0.9027\n",
      "Epoch 69/100\n",
      "24/24 [==============================] - 0s 564us/step - loss: 0.2299 - accuracy: 0.9027\n",
      "Epoch 70/100\n",
      "24/24 [==============================] - 0s 564us/step - loss: 0.2292 - accuracy: 0.9027\n",
      "Epoch 71/100\n",
      "24/24 [==============================] - 0s 564us/step - loss: 0.2286 - accuracy: 0.9040\n",
      "Epoch 72/100\n",
      "24/24 [==============================] - 0s 564us/step - loss: 0.2279 - accuracy: 0.9040\n",
      "Epoch 73/100\n",
      "24/24 [==============================] - 0s 520us/step - loss: 0.2272 - accuracy: 0.9040\n",
      "Epoch 74/100\n",
      "24/24 [==============================] - 0s 477us/step - loss: 0.2266 - accuracy: 0.9040\n",
      "Epoch 75/100\n",
      "24/24 [==============================] - 0s 477us/step - loss: 0.2258 - accuracy: 0.9040\n",
      "Epoch 76/100\n",
      "24/24 [==============================] - 0s 477us/step - loss: 0.2250 - accuracy: 0.9040\n",
      "Epoch 77/100\n",
      "24/24 [==============================] - 0s 434us/step - loss: 0.2242 - accuracy: 0.9053\n",
      "Epoch 78/100\n",
      "24/24 [==============================] - 0s 477us/step - loss: 0.2235 - accuracy: 0.9053\n",
      "Epoch 79/100\n",
      "24/24 [==============================] - 0s 477us/step - loss: 0.2229 - accuracy: 0.9053\n",
      "Epoch 80/100\n",
      "24/24 [==============================] - 0s 520us/step - loss: 0.2221 - accuracy: 0.9053\n",
      "Epoch 81/100\n"
     ]
    },
    {
     "name": "stdout",
     "output_type": "stream",
     "text": [
      "24/24 [==============================] - 0s 477us/step - loss: 0.2212 - accuracy: 0.9053\n",
      "Epoch 82/100\n",
      "24/24 [==============================] - 0s 477us/step - loss: 0.2205 - accuracy: 0.9053\n",
      "Epoch 83/100\n",
      "24/24 [==============================] - 0s 477us/step - loss: 0.2197 - accuracy: 0.9067\n",
      "Epoch 84/100\n",
      "24/24 [==============================] - 0s 477us/step - loss: 0.2189 - accuracy: 0.9053\n",
      "Epoch 85/100\n",
      "24/24 [==============================] - 0s 477us/step - loss: 0.2180 - accuracy: 0.9067\n",
      "Epoch 86/100\n",
      "24/24 [==============================] - 0s 477us/step - loss: 0.2172 - accuracy: 0.9067\n",
      "Epoch 87/100\n",
      "24/24 [==============================] - 0s 477us/step - loss: 0.2165 - accuracy: 0.9067\n",
      "Epoch 88/100\n",
      "24/24 [==============================] - 0s 477us/step - loss: 0.2156 - accuracy: 0.9080\n",
      "Epoch 89/100\n",
      "24/24 [==============================] - 0s 477us/step - loss: 0.2146 - accuracy: 0.9080\n",
      "Epoch 90/100\n",
      "24/24 [==============================] - 0s 434us/step - loss: 0.2138 - accuracy: 0.9080\n",
      "Epoch 91/100\n",
      "24/24 [==============================] - 0s 434us/step - loss: 0.2128 - accuracy: 0.9080\n",
      "Epoch 92/100\n",
      "24/24 [==============================] - 0s 477us/step - loss: 0.2118 - accuracy: 0.9080\n",
      "Epoch 93/100\n",
      "24/24 [==============================] - 0s 477us/step - loss: 0.2108 - accuracy: 0.9067\n",
      "Epoch 94/100\n",
      "24/24 [==============================] - 0s 477us/step - loss: 0.2099 - accuracy: 0.9080\n",
      "Epoch 95/100\n",
      "24/24 [==============================] - 0s 477us/step - loss: 0.2089 - accuracy: 0.9080\n",
      "Epoch 96/100\n",
      "24/24 [==============================] - 0s 477us/step - loss: 0.2080 - accuracy: 0.9067\n",
      "Epoch 97/100\n",
      "24/24 [==============================] - 0s 434us/step - loss: 0.2070 - accuracy: 0.9080\n",
      "Epoch 98/100\n",
      "24/24 [==============================] - 0s 477us/step - loss: 0.2060 - accuracy: 0.9080\n",
      "Epoch 99/100\n",
      "24/24 [==============================] - 0s 434us/step - loss: 0.2051 - accuracy: 0.9080\n",
      "Epoch 100/100\n",
      "24/24 [==============================] - 0s 477us/step - loss: 0.2040 - accuracy: 0.9080\n"
     ]
    }
   ],
   "source": [
    "# Compile the Sequential model together and customize metrics\n",
    "new_model.compile(loss=\"binary_crossentropy\", optimizer=\"adam\", metrics=[\"accuracy\"])\n",
    "\n",
    "# Fit the model to the training data\n",
    "new_fit_model = new_model.fit(X_moon_train_scaled, y_moon_train, epochs=100, shuffle=True)"
   ]
  },
  {
   "cell_type": "code",
   "execution_count": null,
   "id": "aae342ba",
   "metadata": {},
   "outputs": [],
   "source": []
  }
 ],
 "metadata": {
  "kernelspec": {
   "display_name": "mlenv",
   "language": "python",
   "name": "mlenv"
  },
  "language_info": {
   "codemirror_mode": {
    "name": "ipython",
    "version": 3
   },
   "file_extension": ".py",
   "mimetype": "text/x-python",
   "name": "python",
   "nbconvert_exporter": "python",
   "pygments_lexer": "ipython3",
   "version": "3.7.11"
  }
 },
 "nbformat": 4,
 "nbformat_minor": 5
}
